{
  "nbformat": 4,
  "nbformat_minor": 0,
  "metadata": {
    "colab": {
      "provenance": [],
      "authorship_tag": "ABX9TyOwRnT3Dpkp7dB3rfJ0FT69",
      "include_colab_link": true
    },
    "kernelspec": {
      "name": "python3",
      "display_name": "Python 3"
    },
    "language_info": {
      "name": "python"
    }
  },
  "cells": [
    {
      "cell_type": "markdown",
      "metadata": {
        "id": "view-in-github",
        "colab_type": "text"
      },
      "source": [
        "<a href=\"https://colab.research.google.com/github/Sohail1173/Sohail1173-Text-Generation-Using-GPT-2/blob/main/Text_Generation_Using_GPT_2.ipynb\" target=\"_parent\"><img src=\"https://colab.research.google.com/assets/colab-badge.svg\" alt=\"Open In Colab\"/></a>"
      ]
    },
    {
      "cell_type": "code",
      "execution_count": null,
      "metadata": {
        "colab": {
          "base_uri": "https://localhost:8080/"
        },
        "id": "BDmjOr0zhLCw",
        "outputId": "fb3c29ee-09a8-4fa6-a1c3-a208a7a45395"
      },
      "outputs": [
        {
          "output_type": "stream",
          "name": "stdout",
          "text": [
            "Looking in indexes: https://pypi.org/simple, https://us-python.pkg.dev/colab-wheels/public/simple/\n",
            "Requirement already satisfied: transformers in /usr/local/lib/python3.7/dist-packages (4.24.0)\n",
            "Requirement already satisfied: numpy>=1.17 in /usr/local/lib/python3.7/dist-packages (from transformers) (1.21.6)\n",
            "Requirement already satisfied: pyyaml>=5.1 in /usr/local/lib/python3.7/dist-packages (from transformers) (6.0)\n",
            "Requirement already satisfied: importlib-metadata in /usr/local/lib/python3.7/dist-packages (from transformers) (4.13.0)\n",
            "Requirement already satisfied: tokenizers!=0.11.3,<0.14,>=0.11.1 in /usr/local/lib/python3.7/dist-packages (from transformers) (0.13.1)\n",
            "Requirement already satisfied: packaging>=20.0 in /usr/local/lib/python3.7/dist-packages (from transformers) (21.3)\n",
            "Requirement already satisfied: requests in /usr/local/lib/python3.7/dist-packages (from transformers) (2.23.0)\n",
            "Requirement already satisfied: filelock in /usr/local/lib/python3.7/dist-packages (from transformers) (3.8.0)\n",
            "Requirement already satisfied: regex!=2019.12.17 in /usr/local/lib/python3.7/dist-packages (from transformers) (2022.6.2)\n",
            "Requirement already satisfied: huggingface-hub<1.0,>=0.10.0 in /usr/local/lib/python3.7/dist-packages (from transformers) (0.10.1)\n",
            "Requirement already satisfied: tqdm>=4.27 in /usr/local/lib/python3.7/dist-packages (from transformers) (4.64.1)\n",
            "Requirement already satisfied: typing-extensions>=3.7.4.3 in /usr/local/lib/python3.7/dist-packages (from huggingface-hub<1.0,>=0.10.0->transformers) (4.1.1)\n",
            "Requirement already satisfied: pyparsing!=3.0.5,>=2.0.2 in /usr/local/lib/python3.7/dist-packages (from packaging>=20.0->transformers) (3.0.9)\n",
            "Requirement already satisfied: zipp>=0.5 in /usr/local/lib/python3.7/dist-packages (from importlib-metadata->transformers) (3.10.0)\n",
            "Requirement already satisfied: idna<3,>=2.5 in /usr/local/lib/python3.7/dist-packages (from requests->transformers) (2.10)\n",
            "Requirement already satisfied: certifi>=2017.4.17 in /usr/local/lib/python3.7/dist-packages (from requests->transformers) (2022.9.24)\n",
            "Requirement already satisfied: chardet<4,>=3.0.2 in /usr/local/lib/python3.7/dist-packages (from requests->transformers) (3.0.4)\n",
            "Requirement already satisfied: urllib3!=1.25.0,!=1.25.1,<1.26,>=1.21.1 in /usr/local/lib/python3.7/dist-packages (from requests->transformers) (1.24.3)\n"
          ]
        }
      ],
      "source": [
        "pip install transformers"
      ]
    },
    {
      "cell_type": "code",
      "source": [
        "import tensorflow as tf\n",
        "from transformers import GPT2LMHeadModel, GPT2Tokenizer"
      ],
      "metadata": {
        "id": "B8-kgeCwiDut"
      },
      "execution_count": null,
      "outputs": []
    },
    {
      "cell_type": "code",
      "source": [
        "# initialize tokenizer and model from pretrained GPT2 model\n",
        "tokenizer = GPT2Tokenizer.from_pretrained(\"gpt2\")\n",
        "model = GPT2LMHeadModel.from_pretrained(\"gpt2\")"
      ],
      "metadata": {
        "id": "ojSKy4CiiLaG"
      },
      "execution_count": null,
      "outputs": []
    },
    {
      "cell_type": "markdown",
      "source": [
        "Preprocessing the data"
      ],
      "metadata": {
        "id": "urVlP-pKiYa6"
      }
    },
    {
      "cell_type": "code",
      "source": [
        "text = \"What is Natural Language Processing?\"\n",
        "encoded_input = tokenizer.encode(text, return_tensors='pt')"
      ],
      "metadata": {
        "id": "HzHzd5I6idW7"
      },
      "execution_count": null,
      "outputs": []
    },
    {
      "cell_type": "code",
      "source": [
        "tokenizer.decode(inputs[0][0])"
      ],
      "metadata": {
        "colab": {
          "base_uri": "https://localhost:8080/",
          "height": 35
        },
        "id": "Cm8JHu9jjXE9",
        "outputId": "c6ad8080-33b6-4a58-c47f-ea25fdaf0f55"
      },
      "execution_count": null,
      "outputs": [
        {
          "output_type": "execute_result",
          "data": {
            "text/plain": [
              "'what'"
            ],
            "application/vnd.google.colaboratory.intrinsic+json": {
              "type": "string"
            }
          },
          "metadata": {},
          "execution_count": 24
        }
      ]
    },
    {
      "cell_type": "markdown",
      "source": [
        "Text Generation"
      ],
      "metadata": {
        "id": "g5BKOvpwjBuU"
      }
    },
    {
      "cell_type": "code",
      "source": [
        "output = model.generate(encoded_input, max_length=500,num_beams=5,no_repeat_ngram_size=2,early_stopping=True)\n"
      ],
      "metadata": {
        "colab": {
          "base_uri": "https://localhost:8080/"
        },
        "id": "7_uvRW3rjE7o",
        "outputId": "c28be078-d181-4fd8-d52b-a3252cfd585f"
      },
      "execution_count": null,
      "outputs": [
        {
          "output_type": "stream",
          "name": "stderr",
          "text": [
            "The attention mask and the pad token id were not set. As a consequence, you may observe unexpected behavior. Please pass your input's `attention_mask` to obtain reliable results.\n",
            "Setting `pad_token_id` to `eos_token_id`:50256 for open-end generation.\n"
          ]
        }
      ]
    },
    {
      "cell_type": "code",
      "source": [
        "output"
      ],
      "metadata": {
        "colab": {
          "base_uri": "https://localhost:8080/"
        },
        "id": "W-dRUzTGr3Dl",
        "outputId": "1eff18ac-4041-44a7-d786-8a668f0eabb8"
      },
      "execution_count": null,
      "outputs": [
        {
          "output_type": "execute_result",
          "data": {
            "text/plain": [
              "tensor([[ 2061,   318, 12068, 15417, 28403,    30,   198,   198, 35364,  3303,\n",
              "          7587,   357,    45, 19930,     8,   318,   262,  1429,   416,   543,\n",
              "           356,  2193,   649,  2456,    11, 20144,    11, 13439,    11,   290,\n",
              "         13439,    13,   632,   318,   257,  1429,   287,   543,   674,  3632,\n",
              "         16795,   912,   777,  2456,   290, 20144,   287,   257,   835,   326,\n",
              "          3578,   514,   284,  1833,   606,    13,   399, 19930,   318,   635,\n",
              "          1900,   355,   366, 16129,  7587,   553,   290,   340,   318,   530,\n",
              "           286,   262,   749,  1593,  7612,   286,  4673,   257,   649,  3303,\n",
              "            13,   554,   428,  2708,    11,   356,   481,   804,   379,   703,\n",
              "           356,   460,  2193,   284,   779,  3288,  3303,   284, 10996,   351,\n",
              "           584,   661,    13,   775,   481,   635,  2112,   703,   284,  2193,\n",
              "           257,  3303,   290,   703,   340,   460,   307,  5625,   284,   534,\n",
              "           898,  1204,    13,   628,   198,  2437,   284, 14365,   257, 15417,\n",
              "           290,  1374,   284, 27967,   340,   284,  3406, 11744,  5155,   198,\n",
              "            13,   764,   764,   290,  1867,   921,  1680,  2141,   284, 20580,\n",
              "          3406, 15417, 20389,    13,   770,  2708,   481,   905,   345,   703,\n",
              "           345,   460,  2987,   534,  3303,  4678,   416, 11524,   606,   284,\n",
              "           262,   995,  1088,   345,    13,   921,   481,  2193,   546,   262,\n",
              "          1180,  3858,   286,  8950,   326,   389,  1695,   287,  1180,  3354,\n",
              "           286,   534,  1204,    11,   355,   880,   355,   703,   484, 13238,\n",
              "           422,   530,  1194,   287,  2846,   286,   511, 23491,    11, 25818,\n",
              "            11, 15582,    11, 23491,  3173,    11,  3503,    13,   383,  4007,\n",
              "           286,   428,  2665,   318,   284,  1577,   345,   257,  4096,  4547,\n",
              "           286,   703,  8950,   670,   290,   644,   484,   460,   466,   284,\n",
              "          1037,   345,  2193,   606,  1365,    13,  1002,   345,   423,   597,\n",
              "          2683,   393,  3651,    11,  3387,  1254,  1479,   284,  2666,   606,\n",
              "           287,   262,  3651,  2665,  2174,    13,   314,   481,  1949,   284,\n",
              "          3280,   606,   355,  2952,   355,  1744,    11,   475,  3387,   466,\n",
              "           407, 22898,   284,  3151,   503,   284,   502,   611,   345,   389,\n",
              "          4609,   287,  4673,   517,   546,   428,  7243,    13, 50256]])"
            ]
          },
          "metadata": {},
          "execution_count": 34
        }
      ]
    },
    {
      "cell_type": "markdown",
      "source": [
        "Decoding The Encoded Text Genererated By Mode"
      ],
      "metadata": {
        "id": "ZNoFHHoyr9C-"
      }
    },
    {
      "cell_type": "code",
      "source": [
        "tokenizer.decode(output[0], skip_special_tokens=True)"
      ],
      "metadata": {
        "colab": {
          "base_uri": "https://localhost:8080/",
          "height": 140
        },
        "id": "rfKRUuXir_IP",
        "outputId": "818914b3-2ac8-42ad-aef9-06f8f287a27e"
      },
      "execution_count": null,
      "outputs": [
        {
          "output_type": "execute_result",
          "data": {
            "text/plain": [
              "'What is Natural Language Processing?\\n\\nNatural language processing (NLP) is the process by which we learn new words, phrases, sentences, and sentences. It is a process in which our brain interprets these words and phrases in a way that allows us to understand them. NLP is also known as \"language processing,\" and it is one of the most important aspects of learning a new language. In this article, we will look at how we can learn to use natural language to communicate with other people. We will also discuss how to learn a language and how it can be applied to your own life.\\n\\n\\nHow to Learn a Language and How to Apply it to Your Own Life\\n... and What You Can Do to Improve Your Language Skills. This article will show you how you can improve your language skills by applying them to the world around you. You will learn about the different types of languages that are available in different parts of your life, as well as how they differ from one another in terms of their grammar, vocabulary, syntax, grammar rules, etc. The purpose of this section is to give you a basic understanding of how languages work and what they can do to help you learn them better. If you have any questions or comments, please feel free to leave them in the comments section below. I will try to answer them as quickly as possible, but please do not hesitate to reach out to me if you are interested in learning more about this topic.'"
            ],
            "application/vnd.google.colaboratory.intrinsic+json": {
              "type": "string"
            }
          },
          "metadata": {},
          "execution_count": 35
        }
      ]
    }
  ]
}